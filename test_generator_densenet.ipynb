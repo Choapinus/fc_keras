{
 "cells": [
  {
   "cell_type": "code",
   "execution_count": 1,
   "metadata": {},
   "outputs": [
    {
     "name": "stderr",
     "output_type": "stream",
     "text": [
      "Using TensorFlow backend.\n"
     ]
    }
   ],
   "source": [
    "import cv2\n",
    "import keras\n",
    "import numpy as np\n",
    "import matplotlib.pyplot as plt\n",
    "%matplotlib inline\n",
    "from keras.models import Model\n",
    "from keras.regularizers import l2\n",
    "from keras.layers import (\n",
    "    Input, Conv2D, Conv2DTranspose, BatchNormalization, \n",
    "    Dropout, AveragePooling2D, MaxPooling2D, Concatenate, Activation\n",
    ")\n",
    "\n",
    "import tensorflow as tf\n",
    "\n",
    "config = tf.ConfigProto()\n",
    "config.gpu_options.allow_growth = True\n",
    "allow_growth_session = tf.Session(config=config)\n",
    "tf.keras.backend.set_session(allow_growth_session)"
   ]
  },
  {
   "cell_type": "code",
   "execution_count": 2,
   "metadata": {},
   "outputs": [
    {
     "name": "stdout",
     "output_type": "stream",
     "text": [
      "WARNING:tensorflow:\n",
      "The TensorFlow contrib module will not be included in TensorFlow 2.0.\n",
      "For more information, please see:\n",
      "  * https://github.com/tensorflow/community/blob/master/rfcs/20180907-contrib-sunset.md\n",
      "  * https://github.com/tensorflow/addons\n",
      "  * https://github.com/tensorflow/io (for I/O related ops)\n",
      "If you depend on functionality not listed there, please file an issue.\n",
      "\n"
     ]
    }
   ],
   "source": [
    "import os\n",
    "import glob\n",
    "import random\n",
    "import numpy as np\n",
    "import skimage.io as io\n",
    "from utils import utils, helpers\n",
    "\n",
    "def load_image(fname, size=(400, 640)):\n",
    "    im = cv2.imread(fname)\n",
    "    im = cv2.cvtColor(im, cv2.COLOR_BGR2RGB)\n",
    "    im = cv2.resize(im, size, interpolation=cv2.INTER_AREA)\n",
    "    return im\n",
    "\n",
    "class DataGenerator(keras.utils.Sequence):\n",
    "\t# https://stanford.edu/~shervine/blog/keras-how-to-generate-data-on-the-fly\n",
    "\t'Generates data for Keras'\n",
    "\tdef __init__(\n",
    "\t\tself, folder, set_folder='train', batch_size=32, dim=(640,400), n_channels=3, n_classes=4, shuffle=True,\n",
    "\t\taugmentation={'h_flip': False, 'v_flip': False, 'brightness': None, 'rotation': None}\n",
    "\t):\n",
    "\t\t'Initialization'\n",
    "\t\tself.dim = dim\n",
    "\t\tself.batch_size = batch_size\n",
    "\t\tself.folder = folder\n",
    "\t\tself.images = self.get_files(set_folder)\n",
    "\t\tself.labels = self.get_files(set_folder+'_labels')\n",
    "\t\tself.n_channels = n_channels\n",
    "\t\tself.n_classes = n_classes\n",
    "\t\tself.shuffle = shuffle\n",
    "\t\tself.augmentation = augmentation\n",
    "\t\tself.on_epoch_end()\n",
    "\t\t\n",
    "\tdef __len__(self):\n",
    "\t\t'Denotes the number of batches per epoch'\n",
    "\t\treturn int(np.floor(len(self.images) / self.batch_size))\n",
    "\n",
    "\tdef __getitem__(self, index):\n",
    "\t\t'Generate one batch of data'\n",
    "\t\t# Generate indexes of the batch\n",
    "\t\tindexes = self.indexes[index*self.batch_size:(index+1)*self.batch_size]\n",
    "\t\t# im_indexes = self.images[indexes*self.batch_size:(index+1)*self.batch_size]\n",
    "\t\t# lb_indexes = self.labels[indexes*self.batch_size:(index+1)*self.batch_size]\n",
    "\n",
    "\t\t# Generate data\n",
    "\t\tX, y = self.__data_generation(indexes)\n",
    "\n",
    "\t\treturn X, y\n",
    "\n",
    "\tdef on_epoch_end(self):\n",
    "\t\t'Updates indexes after each epoch'\n",
    "\t\tself.indexes = np.arange(self.__len__())\n",
    "\t\tif self.shuffle == True:\n",
    "\t\t\tnp.random.shuffle(self.indexes)\n",
    "\t\t\t\n",
    "\tdef get_files(self, type_folder):\n",
    "\t\treturn sorted(glob.glob(os.path.join(self.folder, type_folder, '*')))\n",
    "\t\n",
    "\tdef dataAugmentation(self, input_image, output_image):\n",
    "\t\tif self.augmentation['h_flip'] and random.randint(0,1):\n",
    "\t\t\tinput_image = cv2.flip(input_image, 1)\n",
    "\t\t\toutput_image = cv2.flip(output_image, 1)\n",
    "\t\tif self.augmentation['v_flip'] and random.randint(0,1):\n",
    "\t\t\tinput_image = cv2.flip(input_image, 0)\n",
    "\t\t\toutput_image = cv2.flip(output_image, 0)\n",
    "\t\tif self.augmentation['brightness']:\n",
    "\t\t\tfactor = 1.0 + random.uniform(-1.0*self.augmentation['brightness'], self.augmentation['brightness'])\n",
    "\t\t\ttable = np.array([((i / 255.0) * factor) * 255 for i in np.arange(0, 256)]).astype(np.uint8)\n",
    "\t\t\tinput_image = cv2.LUT(input_image, table)\n",
    "\t\tif self.augmentation['rotation']:\n",
    "\t\t\tangle = random.uniform(-1*self.augmentation['rotation'], self.augmentation['rotation'])\n",
    "\t\tif self.augmentation['rotation']:\n",
    "\t\t\tM = cv2.getRotationMatrix2D((input_image.shape[1]//2, input_image.shape[0]//2), angle, 1.0)\n",
    "\t\t\tinput_image = cv2.warpAffine(input_image, M, (input_image.shape[1], input_image.shape[0]), flags=cv2.INTER_NEAREST)\n",
    "\t\t\toutput_image = cv2.warpAffine(output_image, M, (output_image.shape[1], output_image.shape[0]), flags=cv2.INTER_NEAREST)\n",
    "\n",
    "\t\treturn input_image, output_image\n",
    "\t\n",
    "\tdef __data_generation(self, indexes):\n",
    "\t\t'Generates data containing batch_size samples' # X : (n_samples, *dim, n_channels)\n",
    "\t\t# Initialization\n",
    "\t\tX = np.empty((self.batch_size, *self.dim, self.n_channels), np.float32)\n",
    "\t\ty = np.empty((self.batch_size, *self.dim, self.n_classes), dtype=np.uint8)\n",
    "\t\t# dividir y con to one hot de utils\n",
    "\n",
    "\t\t# Generate data\n",
    "\t\tfor i, idx in enumerate(indexes):\n",
    "\t\t\t# Store sample\n",
    "\t\t\t# X[i,] = utils.load_image(self.images[idx])\n",
    "\t\t\t# lb = np.load(self.labels[idx])\n",
    "\t\t\t# for x in np.unique(lb):\n",
    "\t\t\t#     y[i,...,x] = np.where(lb == x, 1, 0)\n",
    "\t\t\t\n",
    "\t\t\t# load data\n",
    "\t\t\tim = load_image(self.images[idx])\n",
    "\t\t\tlb = np.load(self.labels[idx])\n",
    "\t\t\tim, lb = self.dataAugmentation(im, lb)\n",
    "\t\t\tim = np.float32(im) / 255.\n",
    "\t\t\t# lb = np.float32(lb)\n",
    "\t\t\t\n",
    "\t\t\t# assign data to batch\n",
    "\t\t\tX[i, ] = im\n",
    "\t\t\tfor x in np.unique(lb):\n",
    "\t\t\t\ty[i, ..., x] = np.where(lb == x, 1, 0)\n",
    "\t\t\t\ty[i, ..., x] = np.float32(y[i, ..., x])\n",
    "\n",
    "\t\treturn X, y"
   ]
  },
  {
   "cell_type": "code",
   "execution_count": 3,
   "metadata": {},
   "outputs": [
    {
     "name": "stdout",
     "output_type": "stream",
     "text": [
      "5658\n"
     ]
    }
   ],
   "source": [
    "augmentation = {'h_flip': True, 'v_flip': True, 'brightness': .25, 'rotation': 25}\n",
    "\n",
    "trainG = DataGenerator('openeds_split', 'train', 2, augmentation=augmentation)\n",
    "testG = DataGenerator('openeds_split', 'test', 2)\n",
    "valG = DataGenerator('openeds_split', 'val', 2)\n",
    "\n",
    "print(len(trainG) + len(testG) + len(valG))"
   ]
  },
  {
   "cell_type": "code",
   "execution_count": 4,
   "metadata": {},
   "outputs": [],
   "source": [
    "tt = zip(trainG.images, trainG.labels)"
   ]
  },
  {
   "cell_type": "code",
   "execution_count": 5,
   "metadata": {},
   "outputs": [
    {
     "data": {
      "text/plain": [
       "<matplotlib.image.AxesImage at 0x7f97fd689da0>"
      ]
     },
     "execution_count": 5,
     "metadata": {},
     "output_type": "execute_result"
    },
    {
     "data": {
      "image/png": "[encoded data removed]",
      "text/plain": [
       "<Figure size 432x288 with 1 Axes>"
      ]
     },
     "metadata": {
      "needs_background": "light"
     },
     "output_type": "display_data"
    }
   ],
   "source": [
    "trainG.on_epoch_end()\n",
    "im, lb = trainG[0]\n",
    "plt.imshow(im[0])"
   ]
  },
  {
   "cell_type": "code",
   "execution_count": 6,
   "metadata": {},
   "outputs": [
    {
     "data": {
      "text/plain": [
       "<matplotlib.image.AxesImage at 0x7f97fc5ac160>"
      ]
     },
     "execution_count": 6,
     "metadata": {},
     "output_type": "execute_result"
    },
    {
     "data": {
      "image/png": "[encoded data removed]",
      "text/plain": [
       "<Figure size 432x288 with 1 Axes>"
      ]
     },
     "metadata": {
      "needs_background": "light"
     },
     "output_type": "display_data"
    }
   ],
   "source": [
    "plt.imshow(lb[0][..., 1])"
   ]
  },
  {
   "cell_type": "code",
   "execution_count": null,
   "metadata": {},
   "outputs": [],
   "source": []
  }
 ],
 "metadata": {
  "kernelspec": {
   "display_name": "Python 3",
   "language": "python",
   "name": "python3"
  },
  "language_info": {
   "codemirror_mode": {
    "name": "ipython",
    "version": 3
   },
   "file_extension": ".py",
   "mimetype": "text/x-python",
   "name": "python",
   "nbconvert_exporter": "python",
   "pygments_lexer": "ipython3",
   "version": "3.6.9"
  }
 },
 "nbformat": 4,
 "nbformat_minor": 2
}
